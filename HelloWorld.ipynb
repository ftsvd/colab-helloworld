{
  "nbformat": 4,
  "nbformat_minor": 0,
  "metadata": {
    "colab": {
      "name": "HelloWorld.ipynb",
      "version": "0.3.2",
      "provenance": [],
      "collapsed_sections": [],
      "include_colab_link": true
    },
    "kernelspec": {
      "name": "python3",
      "display_name": "Python 3"
    },
    "accelerator": "GPU"
  },
  "cells": [
    {
      "cell_type": "markdown",
      "metadata": {
        "id": "view-in-github",
        "colab_type": "text"
      },
      "source": [
        "<a href=\"https://colab.research.google.com/github/ftsvd/colab-helloworld/blob/master/HelloWorld.ipynb\" target=\"_parent\"><img src=\"https://colab.research.google.com/assets/colab-badge.svg\" alt=\"Open In Colab\"/></a>"
      ]
    },
    {
      "cell_type": "markdown",
      "metadata": {
        "id": "4Hi_dZYRZ8Dh",
        "colab_type": "text"
      },
      "source": [
        "Current Code"
      ]
    },
    {
      "cell_type": "code",
      "metadata": {
        "id": "BdMj8z10Z3Ni",
        "colab_type": "code",
        "colab": {
          "base_uri": "https://localhost:8080/",
          "height": 1034
        },
        "outputId": "3058cfd5-1cc1-4b90-b3d5-68a9a3df03d8"
      },
      "source": [
        "import os\n",
        "import numpy as np\n",
        "import matplotlib.pyplot as plt\n",
        "from PIL import Image\n",
        "from keras.utils import to_categorical\n",
        "# import pydicom\n",
        "\n",
        "### LOAD TRAIN ###\n",
        "#get list of training images\n",
        "from os import walk\n",
        "f = []\n",
        "for (dirpath, dirnames, filenames) in walk(\"gdrive/My Drive/Colab Notebooks/HelloWorld/train\"):\n",
        "  f.extend(filenames)\n",
        "  break \n",
        "\n",
        "#populate train_X and train_Y\n",
        "train_X = []\n",
        "train_Y = []\n",
        "for filename in f:\n",
        "  #load training images\n",
        "  im = Image.open(\"gdrive/My Drive/Colab Notebooks/HelloWorld/train/\" + filename, \"r\")\n",
        "  pixelarray = np.array(list(im.getdata(0)))\n",
        "  pixelarray = np.reshape(pixelarray, (64,64))\n",
        "  train_X.append(pixelarray)\n",
        "  #load ground truths\n",
        "  organ = filename.split(\"-\")\n",
        "  train_Y.append(organ[0])\n",
        "   \n",
        "train_X = np.array(train_X)  \n",
        "train_Y = np.array(train_Y) \n",
        "\n",
        "#change strings to integers\n",
        "for n, i in enumerate(train_Y):\n",
        "  if i == 'liver':\n",
        "    train_Y[n] = 0\n",
        "  if i == 'kidney':\n",
        "    train_Y[n] = 1\n",
        "  if i == 'gallbladder':\n",
        "    train_Y[n] = 2\n",
        "  if i == 'spleen':\n",
        "    train_Y[n] = 3\n",
        "  if i == 'bowel':\n",
        "    train_Y[n] = 4\n",
        "  if i == 'bladder':\n",
        "    train_Y[n] = 5\n",
        "\n",
        "    \n",
        "### LOAD TEST ###\n",
        "#get list of test images\n",
        "from os import walk\n",
        "f = []\n",
        "for (dirpath, dirnames, filenames) in walk(\"gdrive/My Drive/Colab Notebooks/HelloWorld/test\"):\n",
        "  f.extend(filenames)\n",
        "  break \n",
        "\n",
        "#populate test_X and test_Y\n",
        "test_X = []\n",
        "test_Y = []\n",
        "for filename in f:\n",
        "  #load training images\n",
        "  im = Image.open(\"gdrive/My Drive/Colab Notebooks/HelloWorld/test/\" + filename, \"r\")\n",
        "  pixelarray = np.array(list(im.getdata(0)))\n",
        "  pixelarray = np.reshape(pixelarray, (64,64))\n",
        "  test_X.append(pixelarray)\n",
        "  #load ground truths\n",
        "  organ = filename.split(\"-\")\n",
        "  test_Y.append(organ[0])\n",
        "   \n",
        "test_X = np.array(test_X)  \n",
        "test_Y = np.array(test_Y) \n",
        "\n",
        "#change strings to integers\n",
        "for n, i in enumerate(test_Y):\n",
        "  if i == 'liver':\n",
        "    test_Y[n] = 0\n",
        "  if i == 'kidney':\n",
        "    test_Y[n] = 1\n",
        "  if i == 'gallbladder':\n",
        "    test_Y[n] = 2\n",
        "  if i == 'spleen':\n",
        "    test_Y[n] = 3\n",
        "  if i == 'bowel':\n",
        "    test_Y[n] = 4\n",
        "  if i == 'bladder':\n",
        "    test_Y[n] = 5\n",
        "\n",
        "\n",
        "#from https://www.datacamp.com/community/tutorials/convolutional-neural-networks-python\n",
        "\n",
        "# Find the unique numbers from the train labels\n",
        "classes = np.unique(train_Y)\n",
        "nClasses = len(classes)\n",
        "print('Total number of outputs : ', nClasses)\n",
        "print('Output classes : ', classes)\n",
        "\n",
        "# Display the first image in training data\n",
        "plt.subplot(121)\n",
        "plt.imshow(train_X[200,:,:], cmap='gray')\n",
        "plt.title(\"Ground Truth : {}\".format(train_Y[200]))\n",
        "\n",
        "# Reshape to 64 x 64 x 1\n",
        "train_X = train_X.reshape(-1, 64, 64, 1)\n",
        "test_X = test_X.reshape(-1, 64, 64, 1)\n",
        "\n",
        "# Normalize 0-255 to 0-1\n",
        "train_X = train_X.astype('float32')\n",
        "test_X = test_X.astype('float32')\n",
        "train_X = train_X / 255.\n",
        "test_X = test_X / 255.\n",
        "\n",
        "# Change the labels from categorical to one-hot encoding\n",
        "train_Y_one_hot = to_categorical(train_Y)\n",
        "test_Y_one_hot = to_categorical(test_Y)\n",
        "\n",
        "# Display the change for category label using one-hot encoding\n",
        "print('Original label:', train_Y[0])\n",
        "print('After conversion to one-hot:', train_Y_one_hot[0])\n",
        "\n",
        "# Split training data to 80/20\n",
        "from sklearn.model_selection import train_test_split\n",
        "train_X,valid_X,train_label,valid_label = train_test_split(train_X, train_Y_one_hot, test_size=0.2, random_state=13)\n",
        "\n",
        "print(train_X.shape,valid_X.shape,train_label.shape,valid_label.shape)\n",
        "\n",
        "### NEURAL NET\n",
        "import keras\n",
        "from keras.models import Sequential,Input,Model\n",
        "from keras.layers import Dense, Dropout, Flatten\n",
        "from keras.layers import Conv2D, MaxPooling2D\n",
        "from keras.layers.normalization import BatchNormalization\n",
        "from keras.layers.advanced_activations import LeakyReLU\n",
        "\n",
        "batch_size = 1 \n",
        "epochs = 10 #20\n",
        "num_classes = 6\n",
        "\n",
        "fashion_model = Sequential()\n",
        "fashion_model.add(Conv2D(32, kernel_size=(3, 3),activation='linear',input_shape=(64,64,1),padding='same'))\n",
        "fashion_model.add(LeakyReLU(alpha=0.1))\n",
        "fashion_model.add(MaxPooling2D((2, 2),padding='same'))\n",
        "fashion_model.add(Conv2D(64, (3, 3), activation='linear',padding='same'))\n",
        "fashion_model.add(LeakyReLU(alpha=0.1))\n",
        "fashion_model.add(MaxPooling2D(pool_size=(2, 2),padding='same'))\n",
        "fashion_model.add(Conv2D(128, (3, 3), activation='linear',padding='same'))\n",
        "fashion_model.add(LeakyReLU(alpha=0.1))                  \n",
        "fashion_model.add(MaxPooling2D(pool_size=(2, 2),padding='same'))\n",
        "fashion_model.add(Flatten())\n",
        "fashion_model.add(Dense(128, activation='linear'))\n",
        "fashion_model.add(LeakyReLU(alpha=0.1))                  \n",
        "fashion_model.add(Dense(num_classes, activation='softmax'))\n",
        "\n",
        "fashion_model.compile(loss=keras.losses.categorical_crossentropy, optimizer=keras.optimizers.Adam(),metrics=['accuracy'])\n",
        "\n",
        "#print(fashion_model.summary())\n",
        "\n",
        "fashion_train = fashion_model.fit(train_X, train_label, batch_size=batch_size,epochs=epochs,verbose=1,validation_data=(valid_X, valid_label))\n",
        "\n",
        "test_eval = fashion_model.evaluate(test_X, test_Y_one_hot, verbose=0)\n",
        "print('Test loss:', test_eval[0])\n",
        "print('Test accuracy:', test_eval[1])"
      ],
      "execution_count": 5,
      "outputs": [
        {
          "output_type": "stream",
          "text": [
            "Total number of outputs :  6\n",
            "Output classes :  ['0' '1' '2' '3' '4' '5']\n",
            "Original label: 5\n",
            "After conversion to one-hot: [0. 0. 0. 0. 0. 1.]\n"
          ],
          "name": "stdout"
        },
        {
          "output_type": "stream",
          "text": [
            "WARNING: Logging before flag parsing goes to stderr.\n",
            "W0619 21:25:04.503063 139891647010688 deprecation_wrapper.py:119] From /usr/local/lib/python3.6/dist-packages/keras/backend/tensorflow_backend.py:74: The name tf.get_default_graph is deprecated. Please use tf.compat.v1.get_default_graph instead.\n",
            "\n",
            "W0619 21:25:04.534756 139891647010688 deprecation_wrapper.py:119] From /usr/local/lib/python3.6/dist-packages/keras/backend/tensorflow_backend.py:517: The name tf.placeholder is deprecated. Please use tf.compat.v1.placeholder instead.\n",
            "\n",
            "W0619 21:25:04.544480 139891647010688 deprecation_wrapper.py:119] From /usr/local/lib/python3.6/dist-packages/keras/backend/tensorflow_backend.py:4138: The name tf.random_uniform is deprecated. Please use tf.random.uniform instead.\n",
            "\n",
            "W0619 21:25:04.572367 139891647010688 deprecation_wrapper.py:119] From /usr/local/lib/python3.6/dist-packages/keras/backend/tensorflow_backend.py:3976: The name tf.nn.max_pool is deprecated. Please use tf.nn.max_pool2d instead.\n",
            "\n",
            "W0619 21:25:04.646157 139891647010688 deprecation_wrapper.py:119] From /usr/local/lib/python3.6/dist-packages/keras/optimizers.py:790: The name tf.train.Optimizer is deprecated. Please use tf.compat.v1.train.Optimizer instead.\n",
            "\n",
            "W0619 21:25:04.655184 139891647010688 deprecation_wrapper.py:119] From /usr/local/lib/python3.6/dist-packages/keras/backend/tensorflow_backend.py:3295: The name tf.log is deprecated. Please use tf.math.log instead.\n",
            "\n"
          ],
          "name": "stderr"
        },
        {
          "output_type": "stream",
          "text": [
            "(244, 64, 64, 1) (62, 64, 64, 1) (244, 6) (62, 6)\n"
          ],
          "name": "stdout"
        },
        {
          "output_type": "stream",
          "text": [
            "W0619 21:25:04.765076 139891647010688 deprecation.py:323] From /usr/local/lib/python3.6/dist-packages/tensorflow/python/ops/math_grad.py:1250: add_dispatch_support.<locals>.wrapper (from tensorflow.python.ops.array_ops) is deprecated and will be removed in a future version.\n",
            "Instructions for updating:\n",
            "Use tf.where in 2.0, which has the same broadcast rule as np.where\n",
            "W0619 21:25:04.835795 139891647010688 deprecation_wrapper.py:119] From /usr/local/lib/python3.6/dist-packages/keras/backend/tensorflow_backend.py:986: The name tf.assign_add is deprecated. Please use tf.compat.v1.assign_add instead.\n",
            "\n"
          ],
          "name": "stderr"
        },
        {
          "output_type": "stream",
          "text": [
            "Train on 244 samples, validate on 62 samples\n",
            "Epoch 1/10\n",
            "244/244 [==============================] - 9s 35ms/step - loss: 0.9349 - acc: 0.6475 - val_loss: 0.1089 - val_acc: 0.9516\n",
            "Epoch 2/10\n",
            "244/244 [==============================] - 1s 5ms/step - loss: 0.0962 - acc: 0.9713 - val_loss: 0.0402 - val_acc: 0.9839\n",
            "Epoch 3/10\n",
            "244/244 [==============================] - 1s 6ms/step - loss: 0.0188 - acc: 0.9959 - val_loss: 0.0330 - val_acc: 0.9839\n",
            "Epoch 4/10\n",
            "244/244 [==============================] - 1s 6ms/step - loss: 0.1380 - acc: 0.9549 - val_loss: 0.0039 - val_acc: 1.0000\n",
            "Epoch 5/10\n",
            "244/244 [==============================] - 1s 6ms/step - loss: 0.0025 - acc: 1.0000 - val_loss: 0.0035 - val_acc: 1.0000\n",
            "Epoch 6/10\n",
            "244/244 [==============================] - 1s 6ms/step - loss: 0.1008 - acc: 0.9795 - val_loss: 0.0072 - val_acc: 1.0000\n",
            "Epoch 7/10\n",
            "244/244 [==============================] - 1s 6ms/step - loss: 8.0143e-04 - acc: 1.0000 - val_loss: 0.0027 - val_acc: 1.0000\n",
            "Epoch 8/10\n",
            "244/244 [==============================] - 1s 6ms/step - loss: 1.2520e-04 - acc: 1.0000 - val_loss: 0.0021 - val_acc: 1.0000\n",
            "Epoch 9/10\n",
            "244/244 [==============================] - 1s 6ms/step - loss: 8.5098e-05 - acc: 1.0000 - val_loss: 0.0018 - val_acc: 1.0000\n",
            "Epoch 10/10\n",
            "244/244 [==============================] - 1s 6ms/step - loss: 6.2555e-05 - acc: 1.0000 - val_loss: 0.0016 - val_acc: 1.0000\n",
            "Test loss: 0.015327226370573044\n",
            "Test accuracy: 1.0\n"
          ],
          "name": "stdout"
        },
        {
          "output_type": "display_data",
          "data": {
            "image/png": "[encoded data removed]",
            "text/plain": [
              "<Figure size 432x288 with 1 Axes>"
            ]
          },
          "metadata": {
            "tags": []
          }
        }
      ]
    },
    {
      "cell_type": "code",
      "metadata": {
        "id": "cllTcKTCm21p",
        "colab_type": "code",
        "colab": {
          "base_uri": "https://localhost:8080/",
          "height": 545
        },
        "outputId": "fa318ea6-870d-4edb-f42a-86be88aeccc2"
      },
      "source": [
        "accuracy = fashion_train.history['acc']\n",
        "val_accuracy = fashion_train.history['val_acc']\n",
        "loss = fashion_train.history['loss']\n",
        "val_loss = fashion_train.history['val_loss']\n",
        "epochs = range(len(accuracy))\n",
        "plt.plot(epochs, accuracy, 'bo', label='Training accuracy')\n",
        "plt.plot(epochs, val_accuracy, 'b', label='Validation accuracy')\n",
        "plt.title('Training and validation accuracy')\n",
        "plt.legend()\n",
        "plt.figure()\n",
        "plt.plot(epochs, loss, 'bo', label='Training loss')\n",
        "plt.plot(epochs, val_loss, 'b', label='Validation loss')\n",
        "plt.title('Training and validation loss')\n",
        "plt.legend()\n",
        "plt.show()"
      ],
      "execution_count": 6,
      "outputs": [
        {
          "output_type": "display_data",
          "data": {
            "image/png": "[encoded data removed]",
            "text/plain": [
              "<Figure size 432x288 with 1 Axes>"
            ]
          },
          "metadata": {
            "tags": []
          }
        },
        {
          "output_type": "display_data",
          "data": {
            "image/png": "[encoded data removed]",
            "text/plain": [
              "<Figure size 432x288 with 1 Axes>"
            ]
          },
          "metadata": {
            "tags": []
          }
        }
      ]
    },
    {
      "cell_type": "markdown",
      "metadata": {
        "id": "8fA7X6gQaADl",
        "colab_type": "text"
      },
      "source": [
        "Code to read DICOM pixeldata"
      ]
    },
    {
      "cell_type": "code",
      "metadata": {
        "id": "tghHWFbc9Ewa",
        "colab_type": "code",
        "outputId": "84fce378-52b7-41ca-b9e4-e1cfdaffbbc4",
        "colab": {
          "base_uri": "https://localhost:8080/",
          "height": 72
        }
      },
      "source": [
        "import os\n",
        "import numpy as np\n",
        "import matplotlib.pyplot as plt\n",
        "import pydicom\n",
        "from pydicom.data import get_testdata_files\n",
        "\n",
        "#with os.scandir('gdrive/My Drive/Colab Notebooks/HelloWorld/') as entries:\n",
        "#  for entry in entries:\n",
        "#    print(entry.name)\n",
        "\n",
        "from os import walk\n",
        "f = []\n",
        "for (dirpath, dirnames, filenames) in walk(\"gdrive/My Drive/Colab Notebooks/HelloWorld/data\"):\n",
        "  f.extend(filenames)\n",
        "  break \n",
        "\n",
        "train_X = []\n",
        "for filename in f:\n",
        "  dataset = pydicom.dcmread(\"gdrive/My Drive/Colab Notebooks/HelloWorld/data/\" + filename)\n",
        "  train_X.append(dataset.pixel_array)\n",
        "\n",
        "train_X = np.array(train_X)  \n",
        "print(train_X.shape)\n",
        "\n",
        "\n",
        "  #dataset = pydicom.dcmread(\"gdrive/My Drive/Colab Notebooks/HelloWorld/ctb.dcm\")\n",
        "'''\n",
        "if 'PixelData' in dataset:\n",
        "    rows = int(dataset.Rows)\n",
        "    cols = int(dataset.Columns)\n",
        "    print(\"Image size.......: {rows:d} x {cols:d}, {size:d} bytes\".format(\n",
        "        rows=rows, cols=cols, size=len(dataset.PixelData)))\n",
        "    if 'PixelSpacing' in dataset:\n",
        "        print(\"Pixel spacing....:\", dataset.PixelSpacing)\n",
        "\n",
        "# use .get() if not sure the item exists, and want a default value if missing\n",
        "print(\"Slice location...:\", dataset.get('SliceLocation', \"(missing)\"))\n",
        "'''\n",
        "#  print(dataset.pixel_array.shape);\n",
        "\n",
        "  # plot the image using matplotlib\n",
        "#  plt.imshow(dataset.pixel_array, cmap=plt.cm.bone)\n",
        "#  plt.show()"
      ],
      "execution_count": 81,
      "outputs": [
        {
          "output_type": "stream",
          "text": [
            "(2, 512, 512)\n"
          ],
          "name": "stdout"
        },
        {
          "output_type": "execute_result",
          "data": {
            "text/plain": [
              "'\\nif \\'PixelData\\' in dataset:\\n    rows = int(dataset.Rows)\\n    cols = int(dataset.Columns)\\n    print(\"Image size.......: {rows:d} x {cols:d}, {size:d} bytes\".format(\\n        rows=rows, cols=cols, size=len(dataset.PixelData)))\\n    if \\'PixelSpacing\\' in dataset:\\n        print(\"Pixel spacing....:\", dataset.PixelSpacing)\\n\\n# use .get() if not sure the item exists, and want a default value if missing\\nprint(\"Slice location...:\", dataset.get(\\'SliceLocation\\', \"(missing)\"))\\n'"
            ]
          },
          "metadata": {
            "tags": []
          },
          "execution_count": 81
        }
      ]
    },
    {
      "cell_type": "code",
      "metadata": {
        "id": "nYq7UZ9x9UNE",
        "colab_type": "code",
        "outputId": "3e2f77ba-718b-487b-cb7a-6d32af9645cf",
        "colab": {
          "base_uri": "https://localhost:8080/",
          "height": 124
        }
      },
      "source": [
        "from google.colab import drive\n",
        "drive.mount('/content/gdrive')"
      ],
      "execution_count": 4,
      "outputs": [
        {
          "output_type": "stream",
          "text": [
            "Go to this URL in a browser: https://accounts.google.com/o/oauth2/auth?client_id=947318989803-6bn6qk8qdgf4n4g3pfee6491hc0brc4i.apps.googleusercontent.com&redirect_uri=urn%3Aietf%3Awg%3Aoauth%3A2.0%3Aoob&scope=email%20https%3A%2F%2Fwww.googleapis.com%2Fauth%2Fdocs.test%20https%3A%2F%2Fwww.googleapis.com%2Fauth%2Fdrive%20https%3A%2F%2Fwww.googleapis.com%2Fauth%2Fdrive.photos.readonly%20https%3A%2F%2Fwww.googleapis.com%2Fauth%2Fpeopleapi.readonly&response_type=code\n",
            "\n",
            "Enter your authorization code:\n",
            "··········\n",
            "Mounted at /content/gdrive\n"
          ],
          "name": "stdout"
        }
      ]
    },
    {
      "cell_type": "code",
      "metadata": {
        "id": "n-wXapnE6YVX",
        "colab_type": "code",
        "outputId": "d9d64b77-28bd-4bd9-f7e6-1e77b8b98f45",
        "colab": {
          "base_uri": "https://localhost:8080/",
          "height": 139
        }
      },
      "source": [
        "#@title Default title text\n",
        "var1 = \"\" #@param {type:\"string\"}\n",
        "\n",
        "print(\"Hello World\")\n",
        "\n",
        "cars = [\"proton\", \"perodua\", \"toyota\"]\n",
        "\n",
        "for c in cars:\n",
        "  print(var1)\n",
        "  print(c)\n",
        "  "
      ],
      "execution_count": 0,
      "outputs": [
        {
          "output_type": "stream",
          "text": [
            "Hello World\n",
            "\n",
            "proton\n",
            "\n",
            "perodua\n",
            "\n",
            "toyota\n"
          ],
          "name": "stdout"
        }
      ]
    },
    {
      "cell_type": "markdown",
      "metadata": {
        "id": "qLp34_Tn7Lgb",
        "colab_type": "text"
      },
      "source": [
        "Hello World <b>Text</b>"
      ]
    },
    {
      "cell_type": "code",
      "metadata": {
        "id": "iR9ZfGs47Tbx",
        "colab_type": "code",
        "outputId": "b9f39135-6889-4431-f550-395edf359717",
        "colab": {
          "base_uri": "https://localhost:8080/",
          "height": 139
        }
      },
      "source": [
        "print(\"Hello World\")\n",
        "\n",
        "cars = [\"proton\", \"perodua\", \"toyota\"]\n",
        "\n",
        "for c in cars:\n",
        "  print(\"car\")\n",
        "  print(c)\n",
        "  "
      ],
      "execution_count": 0,
      "outputs": [
        {
          "output_type": "stream",
          "text": [
            "Hello World\n",
            "car\n",
            "proton\n",
            "car\n",
            "perodua\n",
            "car\n",
            "toyota\n"
          ],
          "name": "stdout"
        }
      ]
    }
  ]
}